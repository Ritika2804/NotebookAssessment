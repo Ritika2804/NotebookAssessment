{
 "cells": [
  {
   "cell_type": "markdown",
   "id": "cde92b77-20a9-4357-9ca7-669d863cc695",
   "metadata": {},
   "source": [
    "<h1> Data Science Tools and Ecosystem"
   ]
  },
  {
   "cell_type": "markdown",
   "id": "f4f2c863-5970-4c51-8327-913cc675ed8f",
   "metadata": {},
   "source": [
    "In this notebook, Data Science Tools and Ecosystem are summarized."
   ]
  },
  {
   "cell_type": "markdown",
   "id": "e7a465a8-c015-4142-9294-f6d904b709b0",
   "metadata": {},
   "source": [
    "Some of the popular languages that Data Scientists use are:\n",
    "1. Python\n",
    "2. R\n",
    "3. VDS\n",
    "4. JAVA\n",
    "5. Scala\n"
   ]
  },
  {
   "cell_type": "markdown",
   "id": "25461107-eb0d-4822-ba24-67cb3464aebe",
   "metadata": {
    "tags": []
   },
   "source": [
    "Some of the commonly used libraries used by Data Scientists include:\n",
    "1. Numpy\n",
    "2. Seaborn\n",
    "3. Pytorch\n",
    "4. Pandas\n",
    "5. Keras"
   ]
  },
  {
   "cell_type": "markdown",
   "id": "34b758aa-1345-4bfa-899f-988937b66ac7",
   "metadata": {},
   "source": [
    "<h3>Below are a few examples of evaluating arithmetic expressions in Python <h3>"
   ]
  },
  {
   "cell_type": "code",
   "execution_count": 1,
   "id": "920ba0bf-4a2c-4824-b996-4bd049ea8b78",
   "metadata": {
    "tags": []
   },
   "outputs": [
    {
     "data": {
      "text/plain": [
       "17"
      ]
     },
     "execution_count": 1,
     "metadata": {},
     "output_type": "execute_result"
    }
   ],
   "source": [
    "#This a simple arithmetic expression to mutiply then add integers\n",
    "(3*4)+5"
   ]
  },
  {
   "cell_type": "code",
   "execution_count": 3,
   "id": "d7f3bf59-76bf-4f74-a1a7-e054d8bf8a91",
   "metadata": {
    "tags": []
   },
   "outputs": [
    {
     "data": {
      "text/plain": [
       "3"
      ]
     },
     "execution_count": 3,
     "metadata": {},
     "output_type": "execute_result"
    }
   ],
   "source": [
    "#This will convert 200 minutes to hours by diving by 60\n",
    "200//60"
   ]
  },
  {
   "cell_type": "markdown",
   "id": "cc586421-f3ce-48d0-a93c-2cf83dd4d40f",
   "metadata": {},
   "source": [
    "**Objectives:**\n",
    "* Add comments to code\n",
    "* Create ordered and unordered list \n",
    "* Add  heading to mark down cells \n",
    "* Perform arithmathetic calculations\n",
    "* Create markdown cells"
   ]
  },
  {
   "cell_type": "markdown",
   "id": "09b9d62e-b46c-4fc8-a4e4-a6c73c460b75",
   "metadata": {
    "tags": []
   },
   "source": [
    "<h2> Author </h2>\n",
    "Ritika Agarwal"
   ]
  },
  {
   "cell_type": "markdown",
   "id": "e88d274c-f4be-4efe-b49d-1bee3cc88d05",
   "metadata": {},
   "source": [
    "| Data Science Tools |\n",
    "| --- |\n",
    "| Anaconda | \n",
    "|Jupyter Notebook | \n",
    "| R Studio | \n",
    "|Spyder|\n",
    "| Zeppelin|"
   ]
  },
  {
   "cell_type": "code",
   "execution_count": null,
   "id": "dd49d3e1-5699-4b2e-b36c-b6e1bfb13ea1",
   "metadata": {},
   "outputs": [],
   "source": []
  }
 ],
 "metadata": {
  "kernelspec": {
   "display_name": "Python",
   "language": "python",
   "name": "conda-env-python-py"
  },
  "language_info": {
   "codemirror_mode": {
    "name": "ipython",
    "version": 3
   },
   "file_extension": ".py",
   "mimetype": "text/x-python",
   "name": "python",
   "nbconvert_exporter": "python",
   "pygments_lexer": "ipython3",
   "version": "3.7.12"
  }
 },
 "nbformat": 4,
 "nbformat_minor": 5
}
